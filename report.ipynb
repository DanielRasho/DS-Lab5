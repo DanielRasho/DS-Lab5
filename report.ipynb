{
 "cells": [
  {
   "cell_type": "markdown",
   "id": "51e75bf9",
   "metadata": {
    "vscode": {
     "languageId": "plaintext"
    }
   },
   "source": [
    "# Laboratorio 5\n",
    "\n",
    "Daniel Alfredo Rayo Roldán\n",
    "\n",
    "Gerardo Gabriel Pineda Riveiro"
   ]
  },
  {
   "cell_type": "code",
   "execution_count": null,
   "id": "eb44c00b",
   "metadata": {
    "vscode": {
     "languageId": "plaintext"
    }
   },
   "outputs": [],
   "source": []
  },
  {
   "cell_type": "markdown",
   "id": "1f106403",
   "metadata": {},
   "source": [
    "## Cargado de Datos"
   ]
  }
 ],
 "metadata": {
  "language_info": {
   "name": "python"
  }
 },
 "nbformat": 4,
 "nbformat_minor": 5
}
